{
 "cells": [
  {
   "cell_type": "markdown",
   "metadata": {},
   "source": [
    "Load Data After edit it on power query"
   ]
  },
  {
   "cell_type": "code",
   "execution_count": null,
   "metadata": {},
   "outputs": [
    {
     "name": "stdout",
     "output_type": "stream",
     "text": [
      "<class 'pandas.core.frame.DataFrame'>\n",
      "RangeIndex: 6234 entries, 0 to 6233\n",
      "Data columns (total 12 columns):\n",
      " #   Column        Non-Null Count  Dtype \n",
      "---  ------        --------------  ----- \n",
      " 0   show_id       6234 non-null   int64 \n",
      " 1   type          6234 non-null   object\n",
      " 2   title         6234 non-null   object\n",
      " 3   director      4265 non-null   object\n",
      " 4   cast          5664 non-null   object\n",
      " 5   country       5758 non-null   object\n",
      " 6   date_added    6223 non-null   object\n",
      " 7   release_year  6234 non-null   int64 \n",
      " 8   rating        6224 non-null   object\n",
      " 9   duration      6234 non-null   object\n",
      " 10  listed_in     6234 non-null   object\n",
      " 11  description   6234 non-null   object\n",
      "dtypes: int64(2), object(10)\n",
      "memory usage: 584.6+ KB\n",
      "None\n",
      "********************************\n",
      "show_id            0\n",
      "type               0\n",
      "title              0\n",
      "director        1969\n",
      "cast             570\n",
      "country          476\n",
      "date_added        11\n",
      "release_year       0\n",
      "rating            10\n",
      "duration           0\n",
      "listed_in          0\n",
      "description        0\n",
      "dtype: int64\n"
     ]
    }
   ],
   "source": [
    "import pandas as pd\n",
    "import numpy as np\n",
    "\n",
    "# Load data\n",
    "df = pd.read_csv('netflix.csv')\n",
    "# Check data types and missing values\n",
    "print(df.info())\n",
    "print(\"********************************\")\n",
    "# Check missing values\n",
    "print(df.isnull().sum())\n"
   ]
  },
  {
   "cell_type": "markdown",
   "metadata": {},
   "source": [
    "Fix errors and Nulls"
   ]
  },
  {
   "cell_type": "code",
   "execution_count": 25,
   "metadata": {},
   "outputs": [
    {
     "name": "stdout",
     "output_type": "stream",
     "text": [
      "show_id          0\n",
      "type             0\n",
      "title            0\n",
      "director         0\n",
      "cast             0\n",
      "country          0\n",
      "date_added      11\n",
      "release_year     0\n",
      "rating          10\n",
      "duration         0\n",
      "listed_in        0\n",
      "description      0\n",
      "dtype: int64\n",
      "    show_id     type                                    title  \\\n",
      "0  81145628    Movie  Norm of the North: King Sized Adventure   \n",
      "1  80117401    Movie               Jandino: Whatever it Takes   \n",
      "2  70234439  TV Show                       Transformers Prime   \n",
      "3  80058654  TV Show         Transformers: Robots in Disguise   \n",
      "4  80125979    Movie                             #realityhigh   \n",
      "\n",
      "                                            director  \\\n",
      "0  Richard Finn, Tim Maltby Unknown Unknown Unkno...   \n",
      "1    Unknown Unknown Unknown Unknown Unknown Unknown   \n",
      "2    Unknown Unknown Unknown Unknown Unknown Unknown   \n",
      "3    Unknown Unknown Unknown Unknown Unknown Unknown   \n",
      "4  Fernando Lebrija Unknown Unknown Unknown Unkno...   \n",
      "\n",
      "                                                cast  \\\n",
      "0  Alan Marriott, Andrew Toth, Brian Dobson, Cole...   \n",
      "1  Jandino Asporaat Unknown Unknown Unknown Unkno...   \n",
      "2  Peter Cullen, Sumalee Montano, Frank Welker, J...   \n",
      "3  Will Friedle, Darren Criss, Constance Zimmer, ...   \n",
      "4  Nesta Cooper, Kate Walsh, John Michael Higgins...   \n",
      "\n",
      "                                             country         date_added  \\\n",
      "0  United States, India, South Korea, China Unkno...  September 9, 2019   \n",
      "1  United Kingdom Unknown Unknown Unknown Unknown...  September 9, 2016   \n",
      "2  United States Unknown Unknown Unknown Unknown ...  September 8, 2018   \n",
      "3  United States Unknown Unknown Unknown Unknown ...  September 8, 2018   \n",
      "4  United States Unknown Unknown Unknown Unknown ...  September 8, 2017   \n",
      "\n",
      "   release_year    rating  duration                           listed_in  \\\n",
      "0          2019     TV-PG    90 min  Children & Family Movies, Comedies   \n",
      "1          2016     TV-MA    94 min                     Stand-Up Comedy   \n",
      "2          2013  TV-Y7-FV  1 Season                            Kids' TV   \n",
      "3          2016     TV-Y7  1 Season                            Kids' TV   \n",
      "4          2017     TV-14    99 min                            Comedies   \n",
      "\n",
      "                                         description  \n",
      "0  Before planning an awesome wedding for his gra...  \n",
      "1  Jandino Asporaat riffs on the challenges of ra...  \n",
      "2  With the help of three human allies, the Autob...  \n",
      "3  When a prison ship crash unleashes hundreds of...  \n",
      "4  When nerdy high schooler Dani finally attracts...  \n",
      "<class 'pandas.core.frame.DataFrame'>\n",
      "RangeIndex: 6234 entries, 0 to 6233\n",
      "Data columns (total 12 columns):\n",
      " #   Column        Non-Null Count  Dtype \n",
      "---  ------        --------------  ----- \n",
      " 0   show_id       6234 non-null   int64 \n",
      " 1   type          6234 non-null   object\n",
      " 2   title         6234 non-null   object\n",
      " 3   director      6234 non-null   object\n",
      " 4   cast          6234 non-null   object\n",
      " 5   country       6234 non-null   object\n",
      " 6   date_added    6223 non-null   object\n",
      " 7   release_year  6234 non-null   int64 \n",
      " 8   rating        6224 non-null   object\n",
      " 9   duration      6234 non-null   object\n",
      " 10  listed_in     6234 non-null   object\n",
      " 11  description   6234 non-null   object\n",
      "dtypes: int64(2), object(10)\n",
      "memory usage: 584.6+ KB\n",
      "None\n"
     ]
    }
   ],
   "source": [
    "# Fill missing values\n",
    "df['director'] = df['director'].fillna('').astype(str) + ' Unknown'\n",
    "df['cast'] = df['cast'].fillna('').astype(str) + ' Unknown'\n",
    "df['country'] = df['country'].fillna('').astype(str) + ' Unknown'\n",
    "\n",
    "# Check for remaining missing values\n",
    "print(df.isnull().sum())\n",
    "\n",
    "# Display the first few rows\n",
    "print(df.head())\n",
    "\n",
    "# Check data types and missing values\n",
    "print(df.info())"
   ]
  }
 ],
 "metadata": {
  "kernelspec": {
   "display_name": "Python 3",
   "language": "python",
   "name": "python3"
  },
  "language_info": {
   "codemirror_mode": {
    "name": "ipython",
    "version": 3
   },
   "file_extension": ".py",
   "mimetype": "text/x-python",
   "name": "python",
   "nbconvert_exporter": "python",
   "pygments_lexer": "ipython3",
   "version": "3.13.2"
  }
 },
 "nbformat": 4,
 "nbformat_minor": 2
}
